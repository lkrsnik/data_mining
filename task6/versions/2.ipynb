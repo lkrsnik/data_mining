{
 "metadata": {
  "name": ""
 },
 "nbformat": 3,
 "nbformat_minor": 0,
 "worksheets": [
  {
   "cells": [
    {
     "cell_type": "code",
     "collapsed": false,
     "input": [
      "import numpy as np\n",
      "from matplotlib import pyplot as plt\n",
      "from Orange.classification import Learner, Model\n",
      "%matplotlib inline\n",
      "from scipy.optimize import fmin_l_bfgs_b\n",
      "import Orange\n",
      "from copy import copy\n",
      "import sklearn"
     ],
     "language": "python",
     "metadata": {},
     "outputs": [],
     "prompt_number": 2
    },
    {
     "cell_type": "code",
     "collapsed": false,
     "input": [
      "def logloss(res):\n",
      "    ll = []\n",
      "    for i in range(res.probabilities.shape[0]):\n",
      "        # x je vektor verjetnosti, ki smo jih napovedali dejanskemu razredu\n",
      "        x = np.array([v[i] for v, i in zip(res.probabilities[i], res.actual.astype(int))])\n",
      "        ll.append(-sum(np.log(x))/len(x))\n",
      "    return ll\n",
      "class IO:\n",
      "    def read(fn, train=True):\n",
      "        X = np.genfromtxt(fn, delimiter = ',', usecols = np.arange(0, 93), skiprows = 1, dtype = float)\n",
      "        atts = [Orange.data.ContinuousVariable('x_' + str(num)) for num in range(93)]\n",
      "        class_var = Orange.data.DiscreteVariable('class_', values=[1, 2, 3, 4, 5, 6, 7, 8, 9])\n",
      "        dbg_domain = Orange.data.Domain(attributes=atts, class_vars=class_var)\n",
      "        # converts first line into int and saves it\n",
      "        ids = X[:, 0].copy().astype(int)\n",
      "        # changes first line to ones\n",
      "        X[:, 0] = np.ones(X.shape[0])\n",
      "        if(train):\n",
      "            y = np.genfromtxt(fn, delimiter = ',', usecols = {94}, skiprows = 1, dtype = str)\n",
      "            # converts classes from string to float numbers\n",
      "            yn = np.zeros(len(y))\n",
      "            i = 0\n",
      "            for el in y:\n",
      "                yn[i] = float(el[6])\n",
      "                i += 1   \n",
      "            y = yn\n",
      "            return Orange.data.Table(dbg_domain, X, y)\n",
      "        else:\n",
      "            return X, ids\n",
      "    def write(res, ids):\n",
      "        fc = np.hstack((['id'], ids))\n",
      "        oc = np.vstack((['Class_1','Class_2','Class_3','Class_4','Class_5','Class_6','Class_7','Class_8','Class_9'], res))\n",
      "        sres = np.column_stack((fc, oc))\n",
      "        np.savetxt('results.csv', sres, delimiter=\",\", fmt=\"%s\")\n",
      "    def write(res, ids):\n",
      "        fc = np.hstack((['id'], ids))\n",
      "        oc = np.vstack((['Class_1','Class_2','Class_3','Class_4','Class_5','Class_6','Class_7','Class_8','Class_9'], res))\n",
      "        sres = np.column_stack((fc, oc))\n",
      "        np.savetxt('results.csv', sres, delimiter=\",\", fmt=\"%s\") "
     ],
     "language": "python",
     "metadata": {},
     "outputs": [],
     "prompt_number": 3
    },
    {
     "cell_type": "code",
     "collapsed": false,
     "input": [
      "#def softmax_function(F):\n",
      "#    Px = np.exp(F)\n",
      "#    return Px / np.sum(Px, axis = 1)[:, None]\n",
      "\n",
      "def softmax_function(izhodmodela):\n",
      "    P = np.exp(izhodmodela - np.max(izhodmodela, axis=1)[:, None])\n",
      "    P /= np.sum(P, axis=1)[:, None]\n",
      "    return P\n",
      "\n",
      "class GradBoostRLearner(Learner):\n",
      "    \"\"\"Gradient Boosting for Regression.\"\"\"\n",
      "\n",
      "    def __init__(self, learner, loss, n_estimators=10, epsilon=1e-5):\n",
      "        super().__init__()\n",
      "        self.n_estimators = n_estimators\n",
      "        self.learner = learner  # base learner\n",
      "        #self.name = \"gb \" + self.learner.name + \" \" + loss\n",
      "        self.epsilon = epsilon\n",
      "        #losses = {\"huber\": self.grad_huber_loss, \n",
      "        #          \"squared\": self.grad_squared_loss, \n",
      "        #          \"abs\": self.grad_abs_loss}\n",
      "        self.loss = loss\n",
      "        \n",
      "    def grad_squared_loss(self, y, f):\n",
      "        \"\"\"Negative gradient for squared loss.\"\"\"\n",
      "        return y - f\n",
      "    \n",
      "    def grad_abs_loss(self, y, f):\n",
      "        \"\"\"Negative gradient for absolute loss.\"\"\"\n",
      "        return np.sign(y - f)\n",
      "    \n",
      "    def grad_huber_loss(self, y, f, delta=0.5):\n",
      "        \"\"\"Negative gradient for Huber loss.\"\"\"\n",
      "        r0 = y - f\n",
      "        r1 = delta * np.sign(r0)\n",
      "        return np.vstack((r0, r1)).T[np.arange(y.shape[0]), (np.abs(r0)>delta).astype(int)]\n",
      "    \n",
      "    def reshape_y(self, unique, Y):\n",
      "        # elements with ones and zeros if calculation is for them\n",
      "        return np.array([np.array(Y == el).astype(float) for el in unique]).T\n",
      "    \n",
      "    def format_data(self, data):\n",
      "        Y = data.Y\n",
      "        c = np.unique(Y)\n",
      "        sy = self.reshape_y(c, Y)\n",
      "        f = np.ones(sy.shape) / len(c)\n",
      "        return sy, f, c\n",
      "        \n",
      "    def grad_approx(self, F, Y, e=1e-1):\n",
      "        #print (F[:, 0])\n",
      "        #print (Y[:, 0])\n",
      "        return np.array([(kl_divergence(Y[:, 0], F[:, 0]+eps, False)[0] - kl_divergence(Y[:, 0], F[:, 0]-eps, False)[0])/(2*e)\n",
      "                         for eps in np.identity(len(F[:, 0])) * e])\n",
      "    \n",
      "    def cost_grad_test(self, F, Y):\n",
      "        ng = self.grad_approx(F, Y)\n",
      "        ag = kl_divergence(Y, F, False)\n",
      "        print (ng)\n",
      "        print (ag)\n",
      "        print(np.sum((ag - ng)**2))\n",
      "    \n",
      "    def fit_storage(self, data):\n",
      "        \"\"\"Fitter. Learns a set of models for gradient boosting.\"\"\"\n",
      "        dom = data.domain\n",
      "        y, f, c = self.format_data(data)\n",
      "        f = f\n",
      "        models = []\n",
      "        p = softmax_function(f).copy()\n",
      "        self.cost_grad_test(p, y)\n",
      "        e = self.loss(y, p) #residual\n",
      "        for i in range(self.n_estimators):\n",
      "            model = []\n",
      "            #print(i/self.n_estimators)\n",
      "            for er, j in zip(e.T, range(e.shape[1])):\n",
      "                l_data = Orange.data.Table(data.X, er)\n",
      "                mod = copy(self.learner.fit(l_data.X, l_data.Y))\n",
      "                f[:, j] += mod.predict(l_data.X)\n",
      "                model.append(mod)\n",
      "            p = softmax_function(f).copy()\n",
      "            e = self.loss(y, p) #residual\n",
      "            models.append(model)\n",
      "        return GradBoostRModel(models, c, dom)\n",
      "    \n",
      "class GradBoostRModel(Model):\n",
      "    \"\"\"Classifier for gradient boosting.\"\"\"\n",
      "    def __init__(self, models, c, dom):\n",
      "        self.models = models\n",
      "        \n",
      "        self.classes = c\n",
      "        self.domain = dom\n",
      "    \n",
      "    def predict(self, X):\n",
      "        \"\"\"Given a data instance or table of data instances returns predicted class.\"\"\"\n",
      "        f = np.ones((X.shape[0], len(self.classes))) / len(self.classes)\n",
      "        modLen = range(len(self.models[0]))\n",
      "        for modelsL in self.models:\n",
      "            #f = softmax_function(f)\n",
      "            for model, i in zip(modelsL, modLen):\n",
      "                f[:, i] += model.predict(X)\n",
      "        f = softmax_function(f)\n",
      "        return f"
     ],
     "language": "python",
     "metadata": {},
     "outputs": [],
     "prompt_number": 4
    },
    {
     "cell_type": "code",
     "collapsed": false,
     "input": [
      "iris = Orange.data.Table(\"iris\")\n",
      "#class_var = Orange.data.DiscreteVariable('c', values=(i for i in range(len(iris.domain.class_var.values))))\n",
      "#domain = Orange.data.Domain(iris.domain.attributes, class_var)\n",
      "#data = Orange.data.Table(domain, iris.X, iris.Y)\n",
      "ann2 = GradBoostRLearner(stree2, kl_divergence, n_estimators=100)\n",
      "res2 = Orange.evaluation.CrossValidation(iris, [ann2], k=10)\n",
      "logloss(res2)"
     ],
     "language": "python",
     "metadata": {},
     "outputs": [
      {
       "ename": "ValueError",
       "evalue": "operands could not be broadcast together with shapes (2,) (135,) ",
       "output_type": "pyerr",
       "traceback": [
        "\u001b[0;31m---------------------------------------------------------------------------\u001b[0m\n\u001b[0;31mValueError\u001b[0m                                Traceback (most recent call last)",
        "\u001b[0;32m<ipython-input-8-dd7fe94fa3d1>\u001b[0m in \u001b[0;36m<module>\u001b[0;34m()\u001b[0m\n\u001b[1;32m      4\u001b[0m \u001b[0;31m#data = Orange.data.Table(domain, iris.X, iris.Y)\u001b[0m\u001b[0;34m\u001b[0m\u001b[0;34m\u001b[0m\u001b[0m\n\u001b[1;32m      5\u001b[0m \u001b[0mann2\u001b[0m \u001b[0;34m=\u001b[0m \u001b[0mGradBoostRLearner\u001b[0m\u001b[0;34m(\u001b[0m\u001b[0mstree2\u001b[0m\u001b[0;34m,\u001b[0m \u001b[0mkl_divergence\u001b[0m\u001b[0;34m,\u001b[0m \u001b[0mn_estimators\u001b[0m\u001b[0;34m=\u001b[0m\u001b[0;36m100\u001b[0m\u001b[0;34m)\u001b[0m\u001b[0;34m\u001b[0m\u001b[0m\n\u001b[0;32m----> 6\u001b[0;31m \u001b[0mres2\u001b[0m \u001b[0;34m=\u001b[0m \u001b[0mOrange\u001b[0m\u001b[0;34m.\u001b[0m\u001b[0mevaluation\u001b[0m\u001b[0;34m.\u001b[0m\u001b[0mCrossValidation\u001b[0m\u001b[0;34m(\u001b[0m\u001b[0miris\u001b[0m\u001b[0;34m,\u001b[0m \u001b[0;34m[\u001b[0m\u001b[0mann2\u001b[0m\u001b[0;34m]\u001b[0m\u001b[0;34m,\u001b[0m \u001b[0mk\u001b[0m\u001b[0;34m=\u001b[0m\u001b[0;36m10\u001b[0m\u001b[0;34m)\u001b[0m\u001b[0;34m\u001b[0m\u001b[0m\n\u001b[0m\u001b[1;32m      7\u001b[0m \u001b[0mlogloss\u001b[0m\u001b[0;34m(\u001b[0m\u001b[0mres2\u001b[0m\u001b[0;34m)\u001b[0m\u001b[0;34m\u001b[0m\u001b[0m\n",
        "\u001b[0;32m/home/luka/Documents/Programs/orange3/Orange/evaluation/testing.py\u001b[0m in \u001b[0;36m__init__\u001b[0;34m(self, data, learners, k, random_state, store_data, store_models)\u001b[0m\n\u001b[1;32m    238\u001b[0m                 \u001b[0mself\u001b[0m\u001b[0;34m.\u001b[0m\u001b[0mmodels\u001b[0m\u001b[0;34m.\u001b[0m\u001b[0mappend\u001b[0m\u001b[0;34m(\u001b[0m\u001b[0mfold_models\u001b[0m\u001b[0;34m)\u001b[0m\u001b[0;34m\u001b[0m\u001b[0m\n\u001b[1;32m    239\u001b[0m             \u001b[0;32mfor\u001b[0m \u001b[0mi\u001b[0m\u001b[0;34m,\u001b[0m \u001b[0mlearner\u001b[0m \u001b[0;32min\u001b[0m \u001b[0menumerate\u001b[0m\u001b[0;34m(\u001b[0m\u001b[0mlearners\u001b[0m\u001b[0;34m)\u001b[0m\u001b[0;34m:\u001b[0m\u001b[0;34m\u001b[0m\u001b[0m\n\u001b[0;32m--> 240\u001b[0;31m                 \u001b[0mmodel\u001b[0m \u001b[0;34m=\u001b[0m \u001b[0mlearner\u001b[0m\u001b[0;34m(\u001b[0m\u001b[0mtrain_data\u001b[0m\u001b[0;34m)\u001b[0m\u001b[0;34m\u001b[0m\u001b[0m\n\u001b[0m\u001b[1;32m    241\u001b[0m                 \u001b[0;32mif\u001b[0m \u001b[0mself\u001b[0m\u001b[0;34m.\u001b[0m\u001b[0mstore_models\u001b[0m\u001b[0;34m:\u001b[0m\u001b[0;34m\u001b[0m\u001b[0m\n\u001b[1;32m    242\u001b[0m                     \u001b[0mfold_models\u001b[0m\u001b[0;34m.\u001b[0m\u001b[0mappend\u001b[0m\u001b[0;34m(\u001b[0m\u001b[0mmodel\u001b[0m\u001b[0;34m)\u001b[0m\u001b[0;34m\u001b[0m\u001b[0m\n",
        "\u001b[0;32m/home/luka/Documents/Programs/orange3/Orange/classification/base.py\u001b[0m in \u001b[0;36m__call__\u001b[0;34m(self, data)\u001b[0m\n\u001b[1;32m     40\u001b[0m \u001b[0;34m\u001b[0m\u001b[0m\n\u001b[1;32m     41\u001b[0m         \u001b[0;32mif\u001b[0m \u001b[0mtype\u001b[0m\u001b[0;34m(\u001b[0m\u001b[0mself\u001b[0m\u001b[0;34m)\u001b[0m\u001b[0;34m.\u001b[0m\u001b[0mfit\u001b[0m \u001b[0;32mis\u001b[0m \u001b[0mLearner\u001b[0m\u001b[0;34m.\u001b[0m\u001b[0mfit\u001b[0m\u001b[0;34m:\u001b[0m\u001b[0;34m\u001b[0m\u001b[0m\n\u001b[0;32m---> 42\u001b[0;31m             \u001b[0mmodel\u001b[0m \u001b[0;34m=\u001b[0m \u001b[0mself\u001b[0m\u001b[0;34m.\u001b[0m\u001b[0mfit_storage\u001b[0m\u001b[0;34m(\u001b[0m\u001b[0mdata\u001b[0m\u001b[0;34m)\u001b[0m\u001b[0;34m\u001b[0m\u001b[0m\n\u001b[0m\u001b[1;32m     43\u001b[0m         \u001b[0;32melse\u001b[0m\u001b[0;34m:\u001b[0m\u001b[0;34m\u001b[0m\u001b[0m\n\u001b[1;32m     44\u001b[0m             \u001b[0mX\u001b[0m\u001b[0;34m,\u001b[0m \u001b[0mY\u001b[0m\u001b[0;34m,\u001b[0m \u001b[0mW\u001b[0m \u001b[0;34m=\u001b[0m \u001b[0mdata\u001b[0m\u001b[0;34m.\u001b[0m\u001b[0mX\u001b[0m\u001b[0;34m,\u001b[0m \u001b[0mdata\u001b[0m\u001b[0;34m.\u001b[0m\u001b[0mY\u001b[0m\u001b[0;34m,\u001b[0m \u001b[0mdata\u001b[0m\u001b[0;34m.\u001b[0m\u001b[0mW\u001b[0m \u001b[0;32mif\u001b[0m \u001b[0mdata\u001b[0m\u001b[0;34m.\u001b[0m\u001b[0mhas_weights\u001b[0m\u001b[0;34m(\u001b[0m\u001b[0;34m)\u001b[0m \u001b[0;32melse\u001b[0m \u001b[0;32mNone\u001b[0m\u001b[0;34m\u001b[0m\u001b[0m\n",
        "\u001b[0;32m<ipython-input-4-c76b2dc162db>\u001b[0m in \u001b[0;36mfit_storage\u001b[0;34m(self, data)\u001b[0m\n\u001b[1;32m     67\u001b[0m         \u001b[0mmodels\u001b[0m \u001b[0;34m=\u001b[0m \u001b[0;34m[\u001b[0m\u001b[0;34m]\u001b[0m\u001b[0;34m\u001b[0m\u001b[0m\n\u001b[1;32m     68\u001b[0m         \u001b[0mp\u001b[0m \u001b[0;34m=\u001b[0m \u001b[0msoftmax_function\u001b[0m\u001b[0;34m(\u001b[0m\u001b[0mf\u001b[0m\u001b[0;34m)\u001b[0m\u001b[0;34m.\u001b[0m\u001b[0mcopy\u001b[0m\u001b[0;34m(\u001b[0m\u001b[0;34m)\u001b[0m\u001b[0;34m\u001b[0m\u001b[0m\n\u001b[0;32m---> 69\u001b[0;31m         \u001b[0mself\u001b[0m\u001b[0;34m.\u001b[0m\u001b[0mcost_grad_test\u001b[0m\u001b[0;34m(\u001b[0m\u001b[0mp\u001b[0m\u001b[0;34m,\u001b[0m \u001b[0my\u001b[0m\u001b[0;34m)\u001b[0m\u001b[0;34m\u001b[0m\u001b[0m\n\u001b[0m\u001b[1;32m     70\u001b[0m         \u001b[0me\u001b[0m \u001b[0;34m=\u001b[0m \u001b[0mself\u001b[0m\u001b[0;34m.\u001b[0m\u001b[0mloss\u001b[0m\u001b[0;34m(\u001b[0m\u001b[0my\u001b[0m\u001b[0;34m,\u001b[0m \u001b[0mp\u001b[0m\u001b[0;34m)\u001b[0m \u001b[0;31m#residual\u001b[0m\u001b[0;34m\u001b[0m\u001b[0m\n\u001b[1;32m     71\u001b[0m         \u001b[0;32mfor\u001b[0m \u001b[0mi\u001b[0m \u001b[0;32min\u001b[0m \u001b[0mrange\u001b[0m\u001b[0;34m(\u001b[0m\u001b[0mself\u001b[0m\u001b[0;34m.\u001b[0m\u001b[0mn_estimators\u001b[0m\u001b[0;34m)\u001b[0m\u001b[0;34m:\u001b[0m\u001b[0;34m\u001b[0m\u001b[0m\n",
        "\u001b[0;32m<ipython-input-4-c76b2dc162db>\u001b[0m in \u001b[0;36mcost_grad_test\u001b[0;34m(self, F, Y)\u001b[0m\n\u001b[1;32m     58\u001b[0m         \u001b[0mprint\u001b[0m \u001b[0;34m(\u001b[0m\u001b[0mng\u001b[0m\u001b[0;34m)\u001b[0m\u001b[0;34m\u001b[0m\u001b[0m\n\u001b[1;32m     59\u001b[0m         \u001b[0mprint\u001b[0m \u001b[0;34m(\u001b[0m\u001b[0mag\u001b[0m\u001b[0;34m)\u001b[0m\u001b[0;34m\u001b[0m\u001b[0m\n\u001b[0;32m---> 60\u001b[0;31m         \u001b[0mprint\u001b[0m\u001b[0;34m(\u001b[0m\u001b[0mnp\u001b[0m\u001b[0;34m.\u001b[0m\u001b[0msum\u001b[0m\u001b[0;34m(\u001b[0m\u001b[0;34m(\u001b[0m\u001b[0mag\u001b[0m \u001b[0;34m-\u001b[0m \u001b[0mng\u001b[0m\u001b[0;34m)\u001b[0m\u001b[0;34m**\u001b[0m\u001b[0;36m2\u001b[0m\u001b[0;34m)\u001b[0m\u001b[0;34m)\u001b[0m\u001b[0;34m\u001b[0m\u001b[0m\n\u001b[0m\u001b[1;32m     61\u001b[0m \u001b[0;34m\u001b[0m\u001b[0m\n\u001b[1;32m     62\u001b[0m     \u001b[0;32mdef\u001b[0m \u001b[0mfit_storage\u001b[0m\u001b[0;34m(\u001b[0m\u001b[0mself\u001b[0m\u001b[0;34m,\u001b[0m \u001b[0mdata\u001b[0m\u001b[0;34m)\u001b[0m\u001b[0;34m:\u001b[0m\u001b[0;34m\u001b[0m\u001b[0m\n",
        "\u001b[0;31mValueError\u001b[0m: operands could not be broadcast together with shapes (2,) (135,) "
       ]
      },
      {
       "output_type": "stream",
       "stream": "stdout",
       "text": [
        "[-59.03195951 -59.03195951 -59.03195951 -59.03195951 -59.03195951\n",
        " -59.03195951 -59.03195951 -59.03195951 -59.03195951 -59.03195951\n",
        " -59.03195951 -59.03195951 -59.03195951 -59.03195951 -59.03195951\n",
        " -59.03195951 -59.03195951 -59.03195951 -59.03195951 -59.03195951\n",
        " -59.03195951 -59.03195951 -59.03195951 -59.03195951 -59.03195951\n",
        " -59.03195951 -59.03195951 -59.03195951 -59.03195951 -59.03195951\n",
        " -59.03195951 -59.03195951 -59.03195951 -59.03195951 -59.03195951\n",
        " -59.03195951 -59.03195951 -59.03195951 -59.03195951 -59.03195951\n",
        " -59.03195951 -59.03195951 -59.03195951 -59.03195951 -59.03195951\n",
        " -59.03195951 -59.03195951 -59.03195951 -59.03195951 -59.03195951\n",
        " -59.03195951 -59.03195951 -59.03195951 -59.03195951 -59.03195951\n",
        " -59.03195951 -59.03195951 -59.03195951 -59.03195951 -59.03195951\n",
        " -59.03195951 -59.03195951 -59.03195951 -59.03195951 -59.03195951\n",
        " -59.03195951 -59.03195951 -59.03195951 -59.03195951 -59.03195951\n",
        " -59.03195951 -59.03195951 -59.03195951 -59.03195951 -59.03195951\n",
        " -59.03195951 -59.03195951 -59.03195951 -59.03195951 -59.03195951\n",
        " -59.03195951 -59.03195951 -59.03195951 -59.03195951 -59.03195951\n",
        " -59.03195951 -59.03195951 -59.03195951 -59.03195951 -59.03195951\n",
        " -59.03195951 -59.03195951 -59.03195951 -59.03195951 -59.03195951\n",
        " -59.03195951 -59.03195951 -59.03195951 -59.03195951 -59.03195951\n",
        " -59.03195951 -59.03195951 -59.03195951 -59.03195951 -59.03195951\n",
        " -59.03195951 -59.03195951 -59.03195951 -59.03195951 -59.03195951\n",
        " -59.03195951 -59.03195951 -59.03195951 -59.03195951 -59.03195951\n",
        " -59.03195951 -59.03195951 -59.03195951 -59.03195951 -59.03195951\n",
        " -59.03195951 -59.03195951 -59.03195951 -59.03195951 -59.03195951\n",
        " -59.03195951 -59.03195951 -59.03195951 -59.03195951 -59.03195951\n",
        " -59.03195951 -59.03195951 -59.03195951 -59.03195951 -59.03195951]\n",
        "(array([ 49.43755299,  49.43755299,  49.43755299]), array([[ 0.66666667, -0.33333333, -0.33333333],\n",
        "       [ 0.66666667, -0.33333333, -0.33333333],\n",
        "       [ 0.66666667, -0.33333333, -0.33333333],\n",
        "       [ 0.66666667, -0.33333333, -0.33333333],\n",
        "       [ 0.66666667, -0.33333333, -0.33333333],\n",
        "       [ 0.66666667, -0.33333333, -0.33333333],\n",
        "       [ 0.66666667, -0.33333333, -0.33333333],\n",
        "       [ 0.66666667, -0.33333333, -0.33333333],\n",
        "       [ 0.66666667, -0.33333333, -0.33333333],\n",
        "       [ 0.66666667, -0.33333333, -0.33333333],\n",
        "       [ 0.66666667, -0.33333333, -0.33333333],\n",
        "       [ 0.66666667, -0.33333333, -0.33333333],\n",
        "       [ 0.66666667, -0.33333333, -0.33333333],\n",
        "       [ 0.66666667, -0.33333333, -0.33333333],\n",
        "       [ 0.66666667, -0.33333333, -0.33333333],\n",
        "       [ 0.66666667, -0.33333333, -0.33333333],\n",
        "       [ 0.66666667, -0.33333333, -0.33333333],\n",
        "       [ 0.66666667, -0.33333333, -0.33333333],\n",
        "       [ 0.66666667, -0.33333333, -0.33333333],\n",
        "       [ 0.66666667, -0.33333333, -0.33333333],\n",
        "       [ 0.66666667, -0.33333333, -0.33333333],\n",
        "       [ 0.66666667, -0.33333333, -0.33333333],\n",
        "       [ 0.66666667, -0.33333333, -0.33333333],\n",
        "       [ 0.66666667, -0.33333333, -0.33333333],\n",
        "       [ 0.66666667, -0.33333333, -0.33333333],\n",
        "       [ 0.66666667, -0.33333333, -0.33333333],\n",
        "       [ 0.66666667, -0.33333333, -0.33333333],\n",
        "       [ 0.66666667, -0.33333333, -0.33333333],\n",
        "       [ 0.66666667, -0.33333333, -0.33333333],\n",
        "       [ 0.66666667, -0.33333333, -0.33333333],\n",
        "       [ 0.66666667, -0.33333333, -0.33333333],\n",
        "       [ 0.66666667, -0.33333333, -0.33333333],\n",
        "       [ 0.66666667, -0.33333333, -0.33333333],\n",
        "       [ 0.66666667, -0.33333333, -0.33333333],\n",
        "       [ 0.66666667, -0.33333333, -0.33333333],\n",
        "       [ 0.66666667, -0.33333333, -0.33333333],\n",
        "       [ 0.66666667, -0.33333333, -0.33333333],\n",
        "       [ 0.66666667, -0.33333333, -0.33333333],\n",
        "       [ 0.66666667, -0.33333333, -0.33333333],\n",
        "       [ 0.66666667, -0.33333333, -0.33333333],\n",
        "       [ 0.66666667, -0.33333333, -0.33333333],\n",
        "       [ 0.66666667, -0.33333333, -0.33333333],\n",
        "       [ 0.66666667, -0.33333333, -0.33333333],\n",
        "       [ 0.66666667, -0.33333333, -0.33333333],\n",
        "       [ 0.66666667, -0.33333333, -0.33333333],\n",
        "       [-0.33333333,  0.66666667, -0.33333333],\n",
        "       [-0.33333333,  0.66666667, -0.33333333],\n",
        "       [-0.33333333,  0.66666667, -0.33333333],\n",
        "       [-0.33333333,  0.66666667, -0.33333333],\n",
        "       [-0.33333333,  0.66666667, -0.33333333],\n",
        "       [-0.33333333,  0.66666667, -0.33333333],\n",
        "       [-0.33333333,  0.66666667, -0.33333333],\n",
        "       [-0.33333333,  0.66666667, -0.33333333],\n",
        "       [-0.33333333,  0.66666667, -0.33333333],\n",
        "       [-0.33333333,  0.66666667, -0.33333333],\n",
        "       [-0.33333333,  0.66666667, -0.33333333],\n",
        "       [-0.33333333,  0.66666667, -0.33333333],\n",
        "       [-0.33333333,  0.66666667, -0.33333333],\n",
        "       [-0.33333333,  0.66666667, -0.33333333],\n",
        "       [-0.33333333,  0.66666667, -0.33333333],\n",
        "       [-0.33333333,  0.66666667, -0.33333333],\n",
        "       [-0.33333333,  0.66666667, -0.33333333],\n",
        "       [-0.33333333,  0.66666667, -0.33333333],\n",
        "       [-0.33333333,  0.66666667, -0.33333333],\n",
        "       [-0.33333333,  0.66666667, -0.33333333],\n",
        "       [-0.33333333,  0.66666667, -0.33333333],\n",
        "       [-0.33333333,  0.66666667, -0.33333333],\n",
        "       [-0.33333333,  0.66666667, -0.33333333],\n",
        "       [-0.33333333,  0.66666667, -0.33333333],\n",
        "       [-0.33333333,  0.66666667, -0.33333333],\n",
        "       [-0.33333333,  0.66666667, -0.33333333],\n",
        "       [-0.33333333,  0.66666667, -0.33333333],\n",
        "       [-0.33333333,  0.66666667, -0.33333333],\n",
        "       [-0.33333333,  0.66666667, -0.33333333],\n",
        "       [-0.33333333,  0.66666667, -0.33333333],\n",
        "       [-0.33333333,  0.66666667, -0.33333333],\n",
        "       [-0.33333333,  0.66666667, -0.33333333],\n",
        "       [-0.33333333,  0.66666667, -0.33333333],\n",
        "       [-0.33333333,  0.66666667, -0.33333333],\n",
        "       [-0.33333333,  0.66666667, -0.33333333],\n",
        "       [-0.33333333,  0.66666667, -0.33333333],\n",
        "       [-0.33333333,  0.66666667, -0.33333333],\n",
        "       [-0.33333333,  0.66666667, -0.33333333],\n",
        "       [-0.33333333,  0.66666667, -0.33333333],\n",
        "       [-0.33333333,  0.66666667, -0.33333333],\n",
        "       [-0.33333333,  0.66666667, -0.33333333],\n",
        "       [-0.33333333,  0.66666667, -0.33333333],\n",
        "       [-0.33333333,  0.66666667, -0.33333333],\n",
        "       [-0.33333333,  0.66666667, -0.33333333],\n",
        "       [-0.33333333,  0.66666667, -0.33333333],\n",
        "       [-0.33333333, -0.33333333,  0.66666667],\n",
        "       [-0.33333333, -0.33333333,  0.66666667],\n",
        "       [-0.33333333, -0.33333333,  0.66666667],\n",
        "       [-0.33333333, -0.33333333,  0.66666667],\n",
        "       [-0.33333333, -0.33333333,  0.66666667],\n",
        "       [-0.33333333, -0.33333333,  0.66666667],\n",
        "       [-0.33333333, -0.33333333,  0.66666667],\n",
        "       [-0.33333333, -0.33333333,  0.66666667],\n",
        "       [-0.33333333, -0.33333333,  0.66666667],\n",
        "       [-0.33333333, -0.33333333,  0.66666667],\n",
        "       [-0.33333333, -0.33333333,  0.66666667],\n",
        "       [-0.33333333, -0.33333333,  0.66666667],\n",
        "       [-0.33333333, -0.33333333,  0.66666667],\n",
        "       [-0.33333333, -0.33333333,  0.66666667],\n",
        "       [-0.33333333, -0.33333333,  0.66666667],\n",
        "       [-0.33333333, -0.33333333,  0.66666667],\n",
        "       [-0.33333333, -0.33333333,  0.66666667],\n",
        "       [-0.33333333, -0.33333333,  0.66666667],\n",
        "       [-0.33333333, -0.33333333,  0.66666667],\n",
        "       [-0.33333333, -0.33333333,  0.66666667],\n",
        "       [-0.33333333, -0.33333333,  0.66666667],\n",
        "       [-0.33333333, -0.33333333,  0.66666667],\n",
        "       [-0.33333333, -0.33333333,  0.66666667],\n",
        "       [-0.33333333, -0.33333333,  0.66666667],\n",
        "       [-0.33333333, -0.33333333,  0.66666667],\n",
        "       [-0.33333333, -0.33333333,  0.66666667],\n",
        "       [-0.33333333, -0.33333333,  0.66666667],\n",
        "       [-0.33333333, -0.33333333,  0.66666667],\n",
        "       [-0.33333333, -0.33333333,  0.66666667],\n",
        "       [-0.33333333, -0.33333333,  0.66666667],\n",
        "       [-0.33333333, -0.33333333,  0.66666667],\n",
        "       [-0.33333333, -0.33333333,  0.66666667],\n",
        "       [-0.33333333, -0.33333333,  0.66666667],\n",
        "       [-0.33333333, -0.33333333,  0.66666667],\n",
        "       [-0.33333333, -0.33333333,  0.66666667],\n",
        "       [-0.33333333, -0.33333333,  0.66666667],\n",
        "       [-0.33333333, -0.33333333,  0.66666667],\n",
        "       [-0.33333333, -0.33333333,  0.66666667],\n",
        "       [-0.33333333, -0.33333333,  0.66666667],\n",
        "       [-0.33333333, -0.33333333,  0.66666667],\n",
        "       [-0.33333333, -0.33333333,  0.66666667],\n",
        "       [-0.33333333, -0.33333333,  0.66666667],\n",
        "       [-0.33333333, -0.33333333,  0.66666667],\n",
        "       [-0.33333333, -0.33333333,  0.66666667],\n",
        "       [-0.33333333, -0.33333333,  0.66666667]]))\n"
       ]
      }
     ],
     "prompt_number": 8
    },
    {
     "cell_type": "code",
     "collapsed": false,
     "input": [
      "arr = np.array([ 0, 1, 2, 3])\n",
      "\n",
      "ann2.reshape_y(np.unique(arr), arr)"
     ],
     "language": "python",
     "metadata": {},
     "outputs": [
      {
       "metadata": {},
       "output_type": "pyout",
       "prompt_number": 32,
       "text": [
        "array([[ 1.,  0.,  0.,  0.],\n",
        "       [ 0.,  1.,  0.,  0.],\n",
        "       [ 0.,  0.,  1.,  0.],\n",
        "       [ 0.,  0.,  0.,  1.]])"
       ]
      }
     ],
     "prompt_number": 32
    },
    {
     "cell_type": "code",
     "collapsed": false,
     "input": [
      "# LOAD DATA\n",
      "train = IO.read('train.csv')\n",
      "test, ids = IO.read('test.csv', False)"
     ],
     "language": "python",
     "metadata": {},
     "outputs": [],
     "prompt_number": 39
    },
    {
     "cell_type": "code",
     "collapsed": false,
     "input": [
      "ann3 = GradBoostRLearner(stree, kl_divergence, n_estimators=10)\n",
      "res3 = Orange.evaluation.CrossValidation(train, [ann3], k=10)\n",
      "logloss(res3)"
     ],
     "language": "python",
     "metadata": {},
     "outputs": [
      {
       "ename": "NameError",
       "evalue": "name 'train' is not defined",
       "output_type": "pyerr",
       "traceback": [
        "\u001b[0;31m---------------------------------------------------------------------------\u001b[0m\n\u001b[0;31mNameError\u001b[0m                                 Traceback (most recent call last)",
        "\u001b[0;32m<ipython-input-38-3345eb92fc71>\u001b[0m in \u001b[0;36m<module>\u001b[0;34m()\u001b[0m\n\u001b[1;32m      1\u001b[0m \u001b[0mann3\u001b[0m \u001b[0;34m=\u001b[0m \u001b[0mGradBoostRLearner\u001b[0m\u001b[0;34m(\u001b[0m\u001b[0mstree\u001b[0m\u001b[0;34m,\u001b[0m \u001b[0mkl_divergence\u001b[0m\u001b[0;34m,\u001b[0m \u001b[0mn_estimators\u001b[0m\u001b[0;34m=\u001b[0m\u001b[0;36m10\u001b[0m\u001b[0;34m)\u001b[0m\u001b[0;34m\u001b[0m\u001b[0m\n\u001b[0;32m----> 2\u001b[0;31m \u001b[0mres3\u001b[0m \u001b[0;34m=\u001b[0m \u001b[0mOrange\u001b[0m\u001b[0;34m.\u001b[0m\u001b[0mevaluation\u001b[0m\u001b[0;34m.\u001b[0m\u001b[0mCrossValidation\u001b[0m\u001b[0;34m(\u001b[0m\u001b[0mtrain\u001b[0m\u001b[0;34m,\u001b[0m \u001b[0;34m[\u001b[0m\u001b[0mann3\u001b[0m\u001b[0;34m]\u001b[0m\u001b[0;34m,\u001b[0m \u001b[0mk\u001b[0m\u001b[0;34m=\u001b[0m\u001b[0;36m10\u001b[0m\u001b[0;34m)\u001b[0m\u001b[0;34m\u001b[0m\u001b[0m\n\u001b[0m\u001b[1;32m      3\u001b[0m \u001b[0mlogloss\u001b[0m\u001b[0;34m(\u001b[0m\u001b[0mres3\u001b[0m\u001b[0;34m)\u001b[0m\u001b[0;34m\u001b[0m\u001b[0m\n",
        "\u001b[0;31mNameError\u001b[0m: name 'train' is not defined"
       ]
      }
     ],
     "prompt_number": 38
    },
    {
     "cell_type": "code",
     "collapsed": false,
     "input": [
      "# GET RESULTS\n",
      "ann = GradBoostRLearner(stree2, kl_divergence, n_estimators=150)\n",
      "\n",
      "model = ann(train)\n",
      "res = model(test, ret=Orange.classification.Model.Probs)\n",
      "IO.write(res, ids)\n",
      "\n",
      "\n",
      "# depth = 3\n",
      "# n_estimators = 10\n",
      "# Server: 1.10073"
     ],
     "language": "python",
     "metadata": {},
     "outputs": [
      {
       "output_type": "stream",
       "stream": "stdout",
       "text": [
        "0.0\n",
        "0.006666666666666667"
       ]
      },
      {
       "output_type": "stream",
       "stream": "stdout",
       "text": [
        "\n",
        "0.013333333333333334"
       ]
      },
      {
       "output_type": "stream",
       "stream": "stdout",
       "text": [
        "\n",
        "0.02"
       ]
      },
      {
       "output_type": "stream",
       "stream": "stdout",
       "text": [
        "\n",
        "0.02666666666666667"
       ]
      },
      {
       "output_type": "stream",
       "stream": "stdout",
       "text": [
        "\n",
        "0.03333333333333333"
       ]
      },
      {
       "output_type": "stream",
       "stream": "stdout",
       "text": [
        "\n",
        "0.04"
       ]
      },
      {
       "output_type": "stream",
       "stream": "stdout",
       "text": [
        "\n",
        "0.04666666666666667"
       ]
      },
      {
       "output_type": "stream",
       "stream": "stdout",
       "text": [
        "\n",
        "0.05333333333333334"
       ]
      },
      {
       "output_type": "stream",
       "stream": "stdout",
       "text": [
        "\n",
        "0.06"
       ]
      },
      {
       "output_type": "stream",
       "stream": "stdout",
       "text": [
        "\n",
        "0.06666666666666667"
       ]
      },
      {
       "output_type": "stream",
       "stream": "stdout",
       "text": [
        "\n",
        "0.07333333333333333"
       ]
      },
      {
       "output_type": "stream",
       "stream": "stdout",
       "text": [
        "\n",
        "0.08"
       ]
      },
      {
       "output_type": "stream",
       "stream": "stdout",
       "text": [
        "\n",
        "0.08666666666666667"
       ]
      },
      {
       "output_type": "stream",
       "stream": "stdout",
       "text": [
        "\n",
        "0.09333333333333334"
       ]
      },
      {
       "output_type": "stream",
       "stream": "stdout",
       "text": [
        "\n",
        "0.1"
       ]
      },
      {
       "output_type": "stream",
       "stream": "stdout",
       "text": [
        "\n",
        "0.10666666666666667"
       ]
      },
      {
       "output_type": "stream",
       "stream": "stdout",
       "text": [
        "\n",
        "0.11333333333333333"
       ]
      },
      {
       "output_type": "stream",
       "stream": "stdout",
       "text": [
        "\n",
        "0.12"
       ]
      },
      {
       "output_type": "stream",
       "stream": "stdout",
       "text": [
        "\n",
        "0.12666666666666668"
       ]
      },
      {
       "output_type": "stream",
       "stream": "stdout",
       "text": [
        "\n",
        "0.13333333333333333"
       ]
      },
      {
       "output_type": "stream",
       "stream": "stdout",
       "text": [
        "\n",
        "0.14"
       ]
      },
      {
       "output_type": "stream",
       "stream": "stdout",
       "text": [
        "\n",
        "0.14666666666666667"
       ]
      },
      {
       "output_type": "stream",
       "stream": "stdout",
       "text": [
        "\n",
        "0.15333333333333332"
       ]
      },
      {
       "output_type": "stream",
       "stream": "stdout",
       "text": [
        "\n",
        "0.16"
       ]
      },
      {
       "output_type": "stream",
       "stream": "stdout",
       "text": [
        "\n",
        "0.16666666666666666"
       ]
      },
      {
       "output_type": "stream",
       "stream": "stdout",
       "text": [
        "\n",
        "0.17333333333333334"
       ]
      },
      {
       "output_type": "stream",
       "stream": "stdout",
       "text": [
        "\n",
        "0.18"
       ]
      },
      {
       "output_type": "stream",
       "stream": "stdout",
       "text": [
        "\n",
        "0.18666666666666668"
       ]
      },
      {
       "output_type": "stream",
       "stream": "stdout",
       "text": [
        "\n",
        "0.19333333333333333"
       ]
      },
      {
       "output_type": "stream",
       "stream": "stdout",
       "text": [
        "\n",
        "0.2"
       ]
      },
      {
       "output_type": "stream",
       "stream": "stdout",
       "text": [
        "\n",
        "0.20666666666666667"
       ]
      },
      {
       "output_type": "stream",
       "stream": "stdout",
       "text": [
        "\n",
        "0.21333333333333335"
       ]
      },
      {
       "output_type": "stream",
       "stream": "stdout",
       "text": [
        "\n",
        "0.22"
       ]
      },
      {
       "output_type": "stream",
       "stream": "stdout",
       "text": [
        "\n",
        "0.22666666666666666"
       ]
      },
      {
       "output_type": "stream",
       "stream": "stdout",
       "text": [
        "\n",
        "0.23333333333333334"
       ]
      },
      {
       "output_type": "stream",
       "stream": "stdout",
       "text": [
        "\n",
        "0.24"
       ]
      },
      {
       "output_type": "stream",
       "stream": "stdout",
       "text": [
        "\n",
        "0.24666666666666667"
       ]
      },
      {
       "output_type": "stream",
       "stream": "stdout",
       "text": [
        "\n",
        "0.25333333333333335"
       ]
      },
      {
       "output_type": "stream",
       "stream": "stdout",
       "text": [
        "\n",
        "0.26"
       ]
      },
      {
       "output_type": "stream",
       "stream": "stdout",
       "text": [
        "\n",
        "0.26666666666666666"
       ]
      },
      {
       "output_type": "stream",
       "stream": "stdout",
       "text": [
        "\n",
        "0.2733333333333333"
       ]
      },
      {
       "output_type": "stream",
       "stream": "stdout",
       "text": [
        "\n",
        "0.28"
       ]
      },
      {
       "output_type": "stream",
       "stream": "stdout",
       "text": [
        "\n",
        "0.2866666666666667"
       ]
      },
      {
       "output_type": "stream",
       "stream": "stdout",
       "text": [
        "\n",
        "0.29333333333333333"
       ]
      },
      {
       "output_type": "stream",
       "stream": "stdout",
       "text": [
        "\n",
        "0.3"
       ]
      },
      {
       "output_type": "stream",
       "stream": "stdout",
       "text": [
        "\n",
        "0.30666666666666664"
       ]
      },
      {
       "output_type": "stream",
       "stream": "stdout",
       "text": [
        "\n",
        "0.31333333333333335"
       ]
      },
      {
       "output_type": "stream",
       "stream": "stdout",
       "text": [
        "\n",
        "0.32"
       ]
      },
      {
       "output_type": "stream",
       "stream": "stdout",
       "text": [
        "\n",
        "0.32666666666666666"
       ]
      },
      {
       "output_type": "stream",
       "stream": "stdout",
       "text": [
        "\n",
        "0.3333333333333333"
       ]
      },
      {
       "output_type": "stream",
       "stream": "stdout",
       "text": [
        "\n",
        "0.34"
       ]
      },
      {
       "output_type": "stream",
       "stream": "stdout",
       "text": [
        "\n",
        "0.3466666666666667"
       ]
      },
      {
       "output_type": "stream",
       "stream": "stdout",
       "text": [
        "\n",
        "0.35333333333333333"
       ]
      },
      {
       "output_type": "stream",
       "stream": "stdout",
       "text": [
        "\n",
        "0.36"
       ]
      },
      {
       "output_type": "stream",
       "stream": "stdout",
       "text": [
        "\n",
        "0.36666666666666664"
       ]
      },
      {
       "output_type": "stream",
       "stream": "stdout",
       "text": [
        "\n",
        "0.37333333333333335"
       ]
      },
      {
       "output_type": "stream",
       "stream": "stdout",
       "text": [
        "\n",
        "0.38"
       ]
      },
      {
       "output_type": "stream",
       "stream": "stdout",
       "text": [
        "\n",
        "0.38666666666666666"
       ]
      },
      {
       "output_type": "stream",
       "stream": "stdout",
       "text": [
        "\n",
        "0.3933333333333333"
       ]
      },
      {
       "output_type": "stream",
       "stream": "stdout",
       "text": [
        "\n",
        "0.4"
       ]
      },
      {
       "output_type": "stream",
       "stream": "stdout",
       "text": [
        "\n",
        "0.4066666666666667"
       ]
      },
      {
       "output_type": "stream",
       "stream": "stdout",
       "text": [
        "\n",
        "0.41333333333333333"
       ]
      },
      {
       "output_type": "stream",
       "stream": "stdout",
       "text": [
        "\n",
        "0.42"
       ]
      },
      {
       "output_type": "stream",
       "stream": "stdout",
       "text": [
        "\n",
        "0.4266666666666667"
       ]
      },
      {
       "output_type": "stream",
       "stream": "stdout",
       "text": [
        "\n",
        "0.43333333333333335"
       ]
      },
      {
       "output_type": "stream",
       "stream": "stdout",
       "text": [
        "\n",
        "0.44"
       ]
      },
      {
       "output_type": "stream",
       "stream": "stdout",
       "text": [
        "\n",
        "0.44666666666666666"
       ]
      },
      {
       "output_type": "stream",
       "stream": "stdout",
       "text": [
        "\n",
        "0.4533333333333333"
       ]
      },
      {
       "output_type": "stream",
       "stream": "stdout",
       "text": [
        "\n",
        "0.46"
       ]
      },
      {
       "output_type": "stream",
       "stream": "stdout",
       "text": [
        "\n",
        "0.4666666666666667"
       ]
      },
      {
       "output_type": "stream",
       "stream": "stdout",
       "text": [
        "\n",
        "0.47333333333333333"
       ]
      },
      {
       "output_type": "stream",
       "stream": "stdout",
       "text": [
        "\n",
        "0.48"
       ]
      },
      {
       "output_type": "stream",
       "stream": "stdout",
       "text": [
        "\n",
        "0.4866666666666667"
       ]
      },
      {
       "output_type": "stream",
       "stream": "stdout",
       "text": [
        "\n",
        "0.49333333333333335"
       ]
      },
      {
       "output_type": "stream",
       "stream": "stdout",
       "text": [
        "\n",
        "0.5"
       ]
      },
      {
       "output_type": "stream",
       "stream": "stdout",
       "text": [
        "\n",
        "0.5066666666666667"
       ]
      },
      {
       "output_type": "stream",
       "stream": "stdout",
       "text": [
        "\n",
        "0.5133333333333333"
       ]
      },
      {
       "output_type": "stream",
       "stream": "stdout",
       "text": [
        "\n",
        "0.52"
       ]
      },
      {
       "output_type": "stream",
       "stream": "stdout",
       "text": [
        "\n",
        "0.5266666666666666"
       ]
      },
      {
       "output_type": "stream",
       "stream": "stdout",
       "text": [
        "\n",
        "0.5333333333333333"
       ]
      },
      {
       "output_type": "stream",
       "stream": "stdout",
       "text": [
        "\n",
        "0.54"
       ]
      },
      {
       "output_type": "stream",
       "stream": "stdout",
       "text": [
        "\n",
        "0.5466666666666666"
       ]
      },
      {
       "output_type": "stream",
       "stream": "stdout",
       "text": [
        "\n",
        "0.5533333333333333"
       ]
      },
      {
       "output_type": "stream",
       "stream": "stdout",
       "text": [
        "\n",
        "0.56"
       ]
      },
      {
       "output_type": "stream",
       "stream": "stdout",
       "text": [
        "\n",
        "0.5666666666666667"
       ]
      },
      {
       "output_type": "stream",
       "stream": "stdout",
       "text": [
        "\n",
        "0.5733333333333334"
       ]
      },
      {
       "output_type": "stream",
       "stream": "stdout",
       "text": [
        "\n",
        "0.58"
       ]
      },
      {
       "output_type": "stream",
       "stream": "stdout",
       "text": [
        "\n",
        "0.5866666666666667"
       ]
      },
      {
       "output_type": "stream",
       "stream": "stdout",
       "text": [
        "\n",
        "0.5933333333333334"
       ]
      },
      {
       "output_type": "stream",
       "stream": "stdout",
       "text": [
        "\n",
        "0.6"
       ]
      },
      {
       "output_type": "stream",
       "stream": "stdout",
       "text": [
        "\n",
        "0.6066666666666667"
       ]
      },
      {
       "output_type": "stream",
       "stream": "stdout",
       "text": [
        "\n",
        "0.6133333333333333"
       ]
      },
      {
       "output_type": "stream",
       "stream": "stdout",
       "text": [
        "\n",
        "0.62"
       ]
      },
      {
       "output_type": "stream",
       "stream": "stdout",
       "text": [
        "\n",
        "0.6266666666666667"
       ]
      },
      {
       "output_type": "stream",
       "stream": "stdout",
       "text": [
        "\n",
        "0.6333333333333333"
       ]
      },
      {
       "output_type": "stream",
       "stream": "stdout",
       "text": [
        "\n",
        "0.64"
       ]
      },
      {
       "output_type": "stream",
       "stream": "stdout",
       "text": [
        "\n",
        "0.6466666666666666"
       ]
      },
      {
       "output_type": "stream",
       "stream": "stdout",
       "text": [
        "\n",
        "0.6533333333333333"
       ]
      },
      {
       "output_type": "stream",
       "stream": "stdout",
       "text": [
        "\n",
        "0.66"
       ]
      },
      {
       "output_type": "stream",
       "stream": "stdout",
       "text": [
        "\n",
        "0.6666666666666666"
       ]
      },
      {
       "output_type": "stream",
       "stream": "stdout",
       "text": [
        "\n",
        "0.6733333333333333"
       ]
      },
      {
       "output_type": "stream",
       "stream": "stdout",
       "text": [
        "\n",
        "0.68"
       ]
      },
      {
       "output_type": "stream",
       "stream": "stdout",
       "text": [
        "\n",
        "0.6866666666666666"
       ]
      },
      {
       "output_type": "stream",
       "stream": "stdout",
       "text": [
        "\n",
        "0.6933333333333334"
       ]
      },
      {
       "output_type": "stream",
       "stream": "stdout",
       "text": [
        "\n",
        "0.7"
       ]
      },
      {
       "output_type": "stream",
       "stream": "stdout",
       "text": [
        "\n",
        "0.7066666666666667"
       ]
      },
      {
       "output_type": "stream",
       "stream": "stdout",
       "text": [
        "\n",
        "0.7133333333333334"
       ]
      },
      {
       "output_type": "stream",
       "stream": "stdout",
       "text": [
        "\n",
        "0.72"
       ]
      },
      {
       "output_type": "stream",
       "stream": "stdout",
       "text": [
        "\n",
        "0.7266666666666667"
       ]
      },
      {
       "output_type": "stream",
       "stream": "stdout",
       "text": [
        "\n",
        "0.7333333333333333"
       ]
      },
      {
       "output_type": "stream",
       "stream": "stdout",
       "text": [
        "\n",
        "0.74"
       ]
      },
      {
       "output_type": "stream",
       "stream": "stdout",
       "text": [
        "\n",
        "0.7466666666666667"
       ]
      },
      {
       "output_type": "stream",
       "stream": "stdout",
       "text": [
        "\n",
        "0.7533333333333333"
       ]
      },
      {
       "output_type": "stream",
       "stream": "stdout",
       "text": [
        "\n",
        "0.76"
       ]
      },
      {
       "output_type": "stream",
       "stream": "stdout",
       "text": [
        "\n",
        "0.7666666666666667"
       ]
      },
      {
       "output_type": "stream",
       "stream": "stdout",
       "text": [
        "\n",
        "0.7733333333333333"
       ]
      },
      {
       "output_type": "stream",
       "stream": "stdout",
       "text": [
        "\n",
        "0.78"
       ]
      },
      {
       "output_type": "stream",
       "stream": "stdout",
       "text": [
        "\n",
        "0.7866666666666666"
       ]
      },
      {
       "output_type": "stream",
       "stream": "stdout",
       "text": [
        "\n",
        "0.7933333333333333"
       ]
      },
      {
       "output_type": "stream",
       "stream": "stdout",
       "text": [
        "\n",
        "0.8"
       ]
      },
      {
       "output_type": "stream",
       "stream": "stdout",
       "text": [
        "\n",
        "0.8066666666666666"
       ]
      },
      {
       "output_type": "stream",
       "stream": "stdout",
       "text": [
        "\n",
        "0.8133333333333334"
       ]
      },
      {
       "output_type": "stream",
       "stream": "stdout",
       "text": [
        "\n",
        "0.82"
       ]
      },
      {
       "output_type": "stream",
       "stream": "stdout",
       "text": [
        "\n",
        "0.8266666666666667"
       ]
      },
      {
       "output_type": "stream",
       "stream": "stdout",
       "text": [
        "\n",
        "0.8333333333333334"
       ]
      },
      {
       "output_type": "stream",
       "stream": "stdout",
       "text": [
        "\n",
        "0.84"
       ]
      },
      {
       "output_type": "stream",
       "stream": "stdout",
       "text": [
        "\n",
        "0.8466666666666667"
       ]
      },
      {
       "output_type": "stream",
       "stream": "stdout",
       "text": [
        "\n",
        "0.8533333333333334"
       ]
      },
      {
       "output_type": "stream",
       "stream": "stdout",
       "text": [
        "\n",
        "0.86"
       ]
      },
      {
       "output_type": "stream",
       "stream": "stdout",
       "text": [
        "\n",
        "0.8666666666666667"
       ]
      },
      {
       "output_type": "stream",
       "stream": "stdout",
       "text": [
        "\n",
        "0.8733333333333333"
       ]
      },
      {
       "output_type": "stream",
       "stream": "stdout",
       "text": [
        "\n",
        "0.88"
       ]
      },
      {
       "output_type": "stream",
       "stream": "stdout",
       "text": [
        "\n",
        "0.8866666666666667"
       ]
      },
      {
       "output_type": "stream",
       "stream": "stdout",
       "text": [
        "\n",
        "0.8933333333333333"
       ]
      },
      {
       "output_type": "stream",
       "stream": "stdout",
       "text": [
        "\n",
        "0.9"
       ]
      },
      {
       "output_type": "stream",
       "stream": "stdout",
       "text": [
        "\n",
        "0.9066666666666666"
       ]
      },
      {
       "output_type": "stream",
       "stream": "stdout",
       "text": [
        "\n",
        "0.9133333333333333"
       ]
      },
      {
       "output_type": "stream",
       "stream": "stdout",
       "text": [
        "\n",
        "0.92"
       ]
      },
      {
       "output_type": "stream",
       "stream": "stdout",
       "text": [
        "\n",
        "0.9266666666666666"
       ]
      },
      {
       "output_type": "stream",
       "stream": "stdout",
       "text": [
        "\n",
        "0.9333333333333333"
       ]
      },
      {
       "output_type": "stream",
       "stream": "stdout",
       "text": [
        "\n",
        "0.94"
       ]
      },
      {
       "output_type": "stream",
       "stream": "stdout",
       "text": [
        "\n",
        "0.9466666666666667"
       ]
      },
      {
       "output_type": "stream",
       "stream": "stdout",
       "text": [
        "\n",
        "0.9533333333333334"
       ]
      },
      {
       "output_type": "stream",
       "stream": "stdout",
       "text": [
        "\n",
        "0.96"
       ]
      },
      {
       "output_type": "stream",
       "stream": "stdout",
       "text": [
        "\n",
        "0.9666666666666667"
       ]
      },
      {
       "output_type": "stream",
       "stream": "stdout",
       "text": [
        "\n",
        "0.9733333333333334"
       ]
      },
      {
       "output_type": "stream",
       "stream": "stdout",
       "text": [
        "\n",
        "0.98"
       ]
      },
      {
       "output_type": "stream",
       "stream": "stdout",
       "text": [
        "\n",
        "0.9866666666666667"
       ]
      },
      {
       "output_type": "stream",
       "stream": "stdout",
       "text": [
        "\n",
        "0.9933333333333333"
       ]
      },
      {
       "output_type": "stream",
       "stream": "stdout",
       "text": [
        "\n"
       ]
      }
     ],
     "prompt_number": 74
    },
    {
     "cell_type": "code",
     "collapsed": false,
     "input": [
      "def kl_divergence(Y, F, only_grad = True):\n",
      "    # F must go through softmax function\n",
      "    #print (Y)\n",
      "    #print (F)\n",
      "    #div = np.divide(Y, np.max(F, 1e-8))\n",
      "    #div = Y / F\n",
      "    #print (div)\n",
      "    ########### COST ###########\n",
      "    if (not only_grad):\n",
      "        div = np.divide(Y, np.max(F, 1e-8))\n",
      "        cost = sum(Y * np.log(np.max(div, 1e-8)))\n",
      "        #print (cost)\n",
      "    \n",
      "    ########### GRAD ###########\n",
      "    grad = Y - F\n",
      "    #print (grad)\n",
      "    if (only_grad):\n",
      "        return grad\n",
      "    return cost, grad"
     ],
     "language": "python",
     "metadata": {},
     "outputs": [],
     "prompt_number": 6
    },
    {
     "cell_type": "code",
     "collapsed": false,
     "input": [
      "xor = Orange.data.Table(\"xor\")\n",
      "atts = [Orange.data.ContinuousVariable('x1'), Orange.data.ContinuousVariable('x2')]\n",
      "class_var = Orange.data.DiscreteVariable('Class_1', values=(1, 0))\n",
      "dbg_domain = Orange.data.Domain(attributes=atts, class_vars=class_var)\n",
      "xor = Orange.data.Table(dbg_domain, xor.X, xor.Y)\n",
      "#gb = NeuralNetLearner((4, 8, 3), lambda_=0.00001)\n",
      "gb = GradBoostRLearner(stree, kl_divergence, n_estimators=50)\n",
      "model = gb(xor)\n",
      "res = model(xor.X, ret=Orange.classification.Model.Probs)"
     ],
     "language": "python",
     "metadata": {},
     "outputs": [],
     "prompt_number": 151
    },
    {
     "cell_type": "code",
     "collapsed": false,
     "input": [
      "# TEST\n",
      "X = np.random.rand(100, 2)\n",
      "y = X[:, 0] ** 2 + X[:, 1] ** 2 + 3 * X[:, 0] * X[:, 1]\n",
      "poly = Orange.data.Table(X, y)\n",
      "\n",
      "housing = Orange.data.Table(\"housing\")"
     ],
     "language": "python",
     "metadata": {},
     "outputs": [],
     "prompt_number": 6
    },
    {
     "cell_type": "code",
     "collapsed": false,
     "input": [
      "#ml = Orange.regression.MeanLearner()\n",
      "stree = Orange.classification.SimpleTreeLearner(max_depth=3)\n",
      "stree2 = sklearn.tree.DecisionTreeRegressor(max_depth=3)\n",
      "#rf = Orange.classification.SimpleRandomForestLearner(n_estimators=50)\n",
      "#lr = Orange.regression.LinearRegressionLearner()\n",
      "gb_sq = GradBoostRLearner(stree, n_estimators=50, loss=\"squared\")\n",
      "#gb_abs = GradBoostRLearner(stree, n_estimators=50, loss=\"abs\")\n",
      "#gb_huber = GradBoostRLearner(stree, n_estimators=50, loss=\"huber\")"
     ],
     "language": "python",
     "metadata": {},
     "outputs": [],
     "prompt_number": 7
    },
    {
     "cell_type": "code",
     "collapsed": false,
     "input": [
      "#learners = [ml, lr, rf, gb_sq, gb_abs, gb_huber]\n",
      "learners = [gb_sq]\n",
      "\n",
      "res = Orange.evaluation.CrossValidation(poly, learners, k=10)"
     ],
     "language": "python",
     "metadata": {},
     "outputs": []
    }
   ],
   "metadata": {}
  }
 ]
}