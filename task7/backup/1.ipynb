{
 "metadata": {
  "name": ""
 },
 "nbformat": 3,
 "nbformat_minor": 0,
 "worksheets": [
  {
   "cells": [
    {
     "cell_type": "code",
     "collapsed": false,
     "input": [
      "import numpy as np\n",
      "from scipy.optimize import fmin_l_bfgs_b\n",
      "import Orange\n",
      "from copy import copy\n",
      "import sklearn\n",
      "from sklearn import svm\n",
      "import sklearn.metrics as skl_metrics\n",
      "import zlib"
     ],
     "language": "python",
     "metadata": {},
     "outputs": [],
     "prompt_number": 1
    },
    {
     "cell_type": "code",
     "collapsed": false,
     "input": [
      "def cs (s):\n",
      "    return len(zlib.compress(s))\n",
      "\n",
      "def kernel (a, b):\n",
      "    zlib_a = cs(a)\n",
      "    zlib_b = cs(b)\n",
      "    return ((cs(a + b) - zlib_a) / zlib_a) + ((cs(b + a) - zlib_b) / zlib_b)\n",
      "\n",
      "def string_kernel(X, Y):\n",
      "    #R = np.zeros((len(X), len(Y)))\n",
      "    R = []\n",
      "    for x in X:\n",
      "        lin = []\n",
      "        for y in Y:\n",
      "            i = int(x[0])\n",
      "            j = int(y[0])\n",
      "            # simplest kernel ever\n",
      "            lin.append(1 / kernel (data[i], data[j]))\n",
      "            #R[i, j] = 1 / kernel (data[i], data[j])\n",
      "        R.append(np.array(lin))\n",
      "    return np.array(R)\n",
      "\n",
      "def read_files(location, start = 1, end = 21):\n",
      "    eng = []\n",
      "    for i in range(start, end):\n",
      "        f = open(location + str(i), 'rb')\n",
      "        eng.append(f.read())\n",
      "        f.close()\n",
      "    return np.array(eng)\n",
      "\n",
      "def create_X(si, ei):\n",
      "    return np.array(range(si, ei))[np.newaxis].T\n",
      "\n",
      "def format_input(ad, c, d, X, y):\n",
      "    data = np.concatenate((d, ad), axis=0)\n",
      "    y = np.concatenate((y, np.zeros(ad.shape) + c), axis=0)\n",
      "    X = np.concatenate((X, create_X(d.shape[0], d.shape[0] + ad.shape[0])), axis=0) if len(X) > 0 else create_X(d.shape[0], d.shape[0] + ad.shape[0])\n",
      "    return data, X, y\n",
      "\n",
      "eng = read_files('input/eng/')\n",
      "slo = read_files('input/slo/')\n",
      "data, X, y = np.array([]), np.array([]), np.array([])\n",
      "data, X, y = format_input(eng[:-3], 0, data, X, y)\n",
      "data, X, y = format_input(slo[:-3], 1, data, X, y)\n",
      "\n",
      "X_t, y_t = np.array([]), np.array([])\n",
      "data, X_t, y_t = format_input(eng[-3:], 0, data, X_t, y_t)\n",
      "data, X_t, y_t = format_input(slo[-3:], 1, data, X_t, y_t)\n",
      "\n",
      "clf = svm.SVC(kernel=string_kernel)\n",
      "clf.fit(X, y)\n",
      "print(clf.predict(X_t))\n",
      "print(y_t)"
     ],
     "language": "python",
     "metadata": {},
     "outputs": [
      {
       "output_type": "stream",
       "stream": "stdout",
       "text": [
        "[ 0.  0.  0.  1.  1.  1.]\n",
        "[ 0.  0.  0.  1.  1.  1.]\n"
       ]
      }
     ],
     "prompt_number": 130
    },
    {
     "cell_type": "code",
     "collapsed": false,
     "input": [],
     "language": "python",
     "metadata": {},
     "outputs": []
    }
   ],
   "metadata": {}
  }
 ]
}