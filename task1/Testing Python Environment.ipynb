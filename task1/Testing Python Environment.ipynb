{
 "metadata": {
  "name": "",
  "signature": "sha256:a58cf8987231ba344a0c25889cb8dfff61b7413702491c58fb96cd5344067dc1"
 },
 "nbformat": 3,
 "nbformat_minor": 0,
 "worksheets": [
  {
   "cells": [
    {
     "cell_type": "markdown",
     "metadata": {},
     "source": [
      "Machine Learning in Python<br>\n",
      "A three-day course at University of Pavia<br>\n",
      "Bla\u017e Zupan and Marinka \u017ditnik<br>\n",
      "with many thanks to all the members of Biolab in Ljubljana<br>\n",
      "\n",
      "A Test of Python Environments\n",
      "-----------------------------\n",
      "\n",
      "<p>In this notebook we test the installation of various libraries and environments. Open the ``Cell`` menu above and select ``Run All`` option. If you are able to successfully run the code, you are all ready for the workshop.</p>\n",
      "\n",
      "<p>If you have any questions or any problems with the installation, you are welcome to visit us at the Installation Clinic half an hour before the start of the workshop.</p>\n",
      "\n",
      "<p>We are looking forward to having you attend the workshop! </p>"
     ]
    },
    {
     "cell_type": "code",
     "collapsed": false,
     "input": [
      "%matplotlib inline\n",
      "import Orange\n",
      "import matplotlib.pyplot as plt\n",
      "import numpy as np\n",
      "import scipy.stats"
     ],
     "language": "python",
     "metadata": {},
     "outputs": [],
     "prompt_number": 21
    },
    {
     "cell_type": "code",
     "collapsed": false,
     "input": [
      "# Here we load a data set, run the principal component analysis \n",
      "# and visualize the data projected onto the space spanned by the \n",
      "# first two latent compoents.\n",
      "data = Orange.data.Table(\"iris\")\n",
      "\n",
      "pca = Orange.projection.PCA(n_components=2)\n",
      "pca_model = pca(data)\n",
      "transformed = pca_model(data)\n",
      "\n",
      "target_names = data.domain.class_var.values\n",
      "for c, i, target_name in zip('rgb', [0, 1, 2], target_names):\n",
      "    plt.scatter(transformed.X[data.Y == i, 0], transformed.X[data.Y == i, 1], c=c, label=target_name)\n",
      "plt.legend(scatterpoints=1, loc=4)\n",
      "plt.title('PCA of Iris dataset');"
     ],
     "language": "python",
     "metadata": {},
     "outputs": [
      {
       "metadata": {},
       "output_type": "display_data",
       "png": "[encoded data removed]",
       "text": [
        "<matplotlib.figure.Figure at 0x10e3338d0>"
       ]
      }
     ],
     "prompt_number": 22
    },
    {
     "cell_type": "code",
     "collapsed": false,
     "input": [
      "# Here we load another data set and evaluate the ability \n",
      "# of logistic regression to discriminate data samples belonging \n",
      "# to different classes. \n",
      "data = Orange.data.Table('titanic')\n",
      "\n",
      "lr = Orange.classification.LogisticRegressionLearner()\n",
      "res = Orange.evaluation.testing.CrossValidation(data, [lr], k=10)\n",
      "print('Learner: %s  AUC: %0.3f' % (lr.name, Orange.evaluation.scoring.AUC(res)))"
     ],
     "language": "python",
     "metadata": {},
     "outputs": [
      {
       "output_type": "stream",
       "stream": "stdout",
       "text": [
        "Learner: logreg  AUC: 0.703\n"
       ]
      }
     ],
     "prompt_number": 23
    },
    {
     "cell_type": "code",
     "collapsed": false,
     "input": [],
     "language": "python",
     "metadata": {},
     "outputs": [],
     "prompt_number": 23
    }
   ],
   "metadata": {}
  }
 ]
}