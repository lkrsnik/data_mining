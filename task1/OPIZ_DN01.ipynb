{
 "metadata": {
  "name": ""
 },
 "nbformat": 3,
 "nbformat_minor": 0,
 "worksheets": [
  {
   "cells": [
    {
     "cell_type": "markdown",
     "metadata": {},
     "source": [
      "Get data"
     ]
    },
    {
     "cell_type": "code",
     "collapsed": false,
     "input": [
      "import numpy as np\n",
      "from matplotlib import pyplot as plt\n",
      "%matplotlib inline\n",
      "from scipy.stats.stats import pearsonr\n",
      "from scipy.optimize import fmin_l_bfgs_b\n",
      "\n",
      "\n",
      "data = np.loadtxt(\"train.tab.txt\", delimiter=\"\\t\", skiprows=3, usecols=(range(0,4870)))\n",
      "characteristics = data[:, 0:4869]\n",
      "intensity = data[:, 4869]\n",
      "\n",
      "#find columns with best corelation with pearson #####argpartition\n",
      "i = 0\n",
      "correlations = np.zeros(len(characteristics[0]))\n",
      "for column in characteristics.T:\n",
      "    correlations[i] = pearsonr(intensity,column)[0]\n",
      "    #print(pearsonr(intensity,column)[0])\n",
      "    i += 1\n",
      "minint = np.iinfo(np.int32).min\n",
      "correlations[np.isnan(correlations)] = minint\n",
      "\n",
      "#indexes with best correlation\n",
      "indexes = np.argpartition(correlations, -20)[-20:]\n",
      "\n",
      "#print([characteristics[:, index] for index in indexes ])\n",
      "#print((np.shape(characteristics[:, indexes])))\n",
      "#print(np.shape(intensity))\n",
      "#print(len(np.ones(bestcharact.shape[0])))\n",
      "\n",
      "#creates a matrix, that consists of columns with best correlation\n",
      "bestcharact = characteristics[:, indexes]\n",
      "X = np.column_stack((np.ones(bestcharact.shape[0]), bestcharact))\n",
      "print (X.shape)\n",
      "init_theta = np.zeros(X.shape[1]).T\n",
      "print (init_theta.shape)\n",
      "#print(X)\n",
      "\n",
      "#calculate gradient\n",
      "#def gradient(X, y, theta):\n",
      "    # calculates by the formula\n",
      "#    return (X.dot(theta) - y).dot(X)\n",
      "def gradient(theta, X, y):\n",
      "    return (X.dot(theta) - y).dot(X)\n",
      "\n",
      "def costFun(theta, X, y):\n",
      "    #print ((1/(2 * y.shape(1))) * (X.dot(theta) - y))\n",
      "    #print (X.shape)\n",
      "    #print (y.shape)\n",
      "    #print (theta.shape)\n",
      "    return 1/(2 * y.size) * (X.dot(theta) - y).T.dot(X.dot(theta) - y)\n",
      "\n",
      "fmin_l_bfgs_b(costFun, init_theta, gradient, args=(X,intensity))\n",
      "#gradient(bestcharact, intensity, init_theta)"
     ],
     "language": "python",
     "metadata": {},
     "outputs": [
      {
       "output_type": "stream",
       "stream": "stdout",
       "text": [
        "(196, 21)\n",
        "(21,)\n"
       ]
      },
      {
       "output_type": "stream",
       "stream": "stderr",
       "text": [
        "/usr/lib/python3/dist-packages/scipy/stats/stats.py:2514: RuntimeWarning: invalid value encountered in double_scalars\n",
        "  r = r_num / r_den\n"
       ]
      },
      {
       "metadata": {},
       "output_type": "pyout",
       "prompt_number": 1,
       "text": [
        "(array([  4.72267694e+01,   4.73051563e+00,   2.76145679e+01,\n",
        "         4.25057347e+00,   4.65957844e+00,   7.77372093e+00,\n",
        "         9.17291126e+00,   2.36393888e+00,   1.75089785e+01,\n",
        "        -5.03467993e+00,   8.86435523e+00,   2.36393888e+00,\n",
        "        -7.30234112e+01,   4.30204728e+00,   9.19004649e-01,\n",
        "         2.76145679e+01,  -8.09503999e+00,  -4.13174884e-02,\n",
        "        -5.62678175e+00,  -3.73315296e+00,   2.92108566e+00]),\n",
        " 194.43039026027358,\n",
        " {'funcalls': 225,\n",
        "  'grad': array([ 0.01250476, -0.00283607, -0.01022731,  0.05870143, -0.00646672,\n",
        "       -0.01876865, -0.01469512,  0.00075778, -0.02279949, -0.01571002,\n",
        "       -0.01526713,  0.00075778, -0.01513401,  0.03411321, -0.01482294,\n",
        "       -0.01022731, -0.00546054,  0.00748023,  0.0086476 ,  0.00838707,\n",
        "        0.01301498]),\n",
        "  'nit': 199,\n",
        "  'task': b'CONVERGENCE: REL_REDUCTION_OF_F_<=_FACTR*EPSMCH',\n",
        "  'warnflag': 0})"
       ]
      }
     ],
     "prompt_number": 1
    },
    {
     "cell_type": "code",
     "collapsed": false,
     "input": [
      "counter = 0\n",
      "for num in indexes:\n",
      "    counter += correlations[num]\n",
      "print(counter)\n",
      "\n",
      "print(correlations[2879])\n",
      "\n",
      "sum = 0\n",
      "for i in range(20):\n",
      "    sum += correlations[np.argmax(correlations)]\n",
      "    print(np.argmax(correlations))\n",
      "    correlations[np.argmax(correlations)] = minint\n",
      "sum "
     ],
     "language": "python",
     "metadata": {},
     "outputs": [
      {
       "output_type": "stream",
       "stream": "stdout",
       "text": [
        "-42949672960.0\n",
        "-2147483648.0\n",
        "1701\n",
        "1663\n",
        "2407\n",
        "1703\n",
        "4852\n",
        "2520\n",
        "1732\n",
        "2145\n",
        "2049\n",
        "2079\n",
        "1530\n",
        "1373\n",
        "1408\n",
        "1468\n",
        "1713\n",
        "2113\n",
        "1953\n",
        "265\n",
        "4848\n",
        "2534\n"
       ]
      },
      {
       "metadata": {},
       "output_type": "pyout",
       "prompt_number": 182,
       "text": [
        "5.5244059701437278"
       ]
      }
     ],
     "prompt_number": 182
    },
    {
     "cell_type": "code",
     "collapsed": false,
     "input": [
      "[[2,1][3,1]]**2"
     ],
     "language": "python",
     "metadata": {},
     "outputs": [
      {
       "ename": "TypeError",
       "evalue": "list indices must be integers, not tuple",
       "output_type": "pyerr",
       "traceback": [
        "\u001b[0;31m---------------------------------------------------------------------------\u001b[0m\n\u001b[0;31mTypeError\u001b[0m                                 Traceback (most recent call last)",
        "\u001b[0;32m<ipython-input-2-fa626db75295>\u001b[0m in \u001b[0;36m<module>\u001b[0;34m()\u001b[0m\n\u001b[0;32m----> 1\u001b[0;31m \u001b[0;34m[\u001b[0m\u001b[0;34m[\u001b[0m\u001b[0;36m2\u001b[0m\u001b[0;34m,\u001b[0m\u001b[0;36m1\u001b[0m\u001b[0;34m]\u001b[0m\u001b[0;34m[\u001b[0m\u001b[0;36m3\u001b[0m\u001b[0;34m,\u001b[0m\u001b[0;36m1\u001b[0m\u001b[0;34m]\u001b[0m\u001b[0;34m]\u001b[0m\u001b[0;34m**\u001b[0m\u001b[0;36m2\u001b[0m\u001b[0;34m\u001b[0m\u001b[0m\n\u001b[0m",
        "\u001b[0;31mTypeError\u001b[0m: list indices must be integers, not tuple"
       ]
      }
     ],
     "prompt_number": 2
    },
    {
     "cell_type": "code",
     "collapsed": false,
     "input": [
      "counter = 0\n",
      "for num in indexes:\n",
      "    counter += correlations[num]\n",
      "counter"
     ],
     "language": "python",
     "metadata": {},
     "outputs": [
      {
       "metadata": {},
       "output_type": "pyout",
       "prompt_number": 170,
       "text": [
        "-42949672960.0"
       ]
      }
     ],
     "prompt_number": 170
    },
    {
     "cell_type": "code",
     "collapsed": false,
     "input": [
      "m, b = [1, 0]\n",
      "b"
     ],
     "language": "python",
     "metadata": {},
     "outputs": [
      {
       "metadata": {},
       "output_type": "pyout",
       "prompt_number": 225,
       "text": [
        "0"
       ]
      }
     ],
     "prompt_number": 225
    }
   ],
   "metadata": {}
  }
 ]
}