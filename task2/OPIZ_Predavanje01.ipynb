{
 "metadata": {
  "name": "",
  "signature": "sha256:584722f0b9331edc580bc8ff46bc7a93d3e82e11a4b2354e0ef5947209896724"
 },
 "nbformat": 3,
 "nbformat_minor": 0,
 "worksheets": [
  {
   "cells": [
    {
     "cell_type": "heading",
     "level": 4,
     "metadata": {},
     "source": [
      "Podatki"
     ]
    },
    {
     "cell_type": "code",
     "collapsed": false,
     "input": [
      "import numpy as np\n",
      "from matplotlib import pyplot as plt\n",
      "%matplotlib inline"
     ],
     "language": "python",
     "metadata": {},
     "outputs": [],
     "prompt_number": 5
    },
    {
     "cell_type": "code",
     "collapsed": false,
     "input": [
      "np.random.seed(42)\n",
      "x = np.random.random_sample(10)\n",
      "y = 1 - (x - 0.5)**2 + np.random.normal(0, 0.1, len(x))\n",
      "X = np.column_stack([np.ones(len(x)), x])"
     ],
     "language": "python",
     "metadata": {},
     "outputs": [],
     "prompt_number": 6
    },
    {
     "cell_type": "code",
     "collapsed": false,
     "input": [
      "plt.plot(x, y, \"o\");"
     ],
     "language": "python",
     "metadata": {},
     "outputs": [
      {
       "metadata": {},
       "output_type": "display_data",
       "png": "[encoded data removed]",
       "text": [
        "<matplotlib.figure.Figure at 0x7f3fde6fe4e0>"
       ]
      }
     ],
     "prompt_number": 7
    },
    {
     "cell_type": "code",
     "collapsed": false,
     "input": [
      "# Funkcija postopnega gradienta\n",
      "#------------------------------\n",
      "# Parametri:\n",
      "# X ... matrika ??\n",
      "# y ... vektor ??\n",
      "# alpha ... koeficient gradienta (koliko se premikamo...)\n",
      "# epoch ... stevilo korakov iteracije\n",
      "def gradient_descent(X, y, alpha=0.1, epochs=1000):\n",
      "    # theta ... prvi priblizek parametrov modela (dve nicli)\n",
      "    theta = np.zeros(X.shape[1]).T\n",
      "    for i in range(epochs):\n",
      "        theta = theta - alpha * (X.dot(theta) - y).dot(X)\n",
      "    return theta\n",
      "    "
     ],
     "language": "python",
     "metadata": {},
     "outputs": [],
     "prompt_number": 8
    },
    {
     "cell_type": "code",
     "collapsed": false,
     "input": [
      "def analytical(X, y):\n",
      "    return np.linalg.inv(X.T.dot(X)).dot(X.T.dot(y));"
     ],
     "language": "python",
     "metadata": {},
     "outputs": [],
     "prompt_number": 9
    },
    {
     "cell_type": "code",
     "collapsed": false,
     "input": [
      "# Stohasticna resitev\n",
      "print(y.shape)\n",
      "\n",
      "theta = gradient_descent(X,y);\n",
      "\n",
      "# Analiticna resitev\n",
      "# ce bi imel prevec parametrov, se ne da zracunat inverza matrike\n",
      "theta_analiticna = analytical(X, y);\n",
      "\n",
      "# zacetna in koncna tocka na grafu\n",
      "mm = np.array((min(X[:, 1]), max(X[:, 1])));\n",
      "P = np.column_stack((np.ones(len(mm)), mm));\n",
      "\n",
      "# premici resitev\n",
      "premica = P.dot(theta);\n",
      "premica_analiticna = P.dot(theta_analiticna);\n",
      "\n",
      "# prikaz\n",
      "plt.plot(x, y, \"o\");\n",
      "plt.plot(mm, premica);\n",
      "plt.plot(mm, premica_analiticna); # resitvi se prekrivata"
     ],
     "language": "python",
     "metadata": {},
     "outputs": [
      {
       "output_type": "stream",
       "stream": "stdout",
       "text": [
        "(10,)\n"
       ]
      },
      {
       "metadata": {},
       "output_type": "pyout",
       "prompt_number": 13,
       "text": [
        "[<matplotlib.lines.Line2D at 0x7f3fc10959b0>]"
       ]
      },
      {
       "metadata": {},
       "output_type": "display_data",
       "png": "[encoded data removed]",
       "text": [
        "<matplotlib.figure.Figure at 0x7f3fc0092a58>"
       ]
      }
     ],
     "prompt_number": 13
    },
    {
     "cell_type": "heading",
     "level": 4,
     "metadata": {},
     "source": [
      "Dodamo clene visjega reda"
     ]
    },
    {
     "cell_type": "code",
     "collapsed": false,
     "input": [
      "def poly_expand(X, k=9):\n",
      "    for _ in range(k-1):\n",
      "        # zmnozi po komponentah in preoblikuj\n",
      "        tmp = np.multiply(X[:, 1], X[:, -1]).reshape(len(X), 1)\n",
      "        # hstack vzame matriko in doda stolpec\n",
      "        X = np.hstack((X, tmp))\n",
      "    return X"
     ],
     "language": "python",
     "metadata": {},
     "outputs": [],
     "prompt_number": 101
    },
    {
     "cell_type": "code",
     "collapsed": false,
     "input": [
      "poly_degree = 9\n",
      "Z = poly_expand(X, poly_degree)\n",
      "theta = analytical(Z, y)\n",
      "\n",
      "plt.plot(Z[:, 1], y, \"o\")\n",
      "xmin, xmax = Z[:, 1].min(), Z[:, 1].max()\n",
      "xe = np.arange(xmin, xmax, (xmax-xmin)/100)\n",
      "xe = np.vstack((np.ones(len(xe)), xe)).T\n",
      "xe = poly_expand(xe, poly_degree)\n",
      "plt.plot(xe[:, 1], xe.dot(theta))"
     ],
     "language": "python",
     "metadata": {},
     "outputs": [
      {
       "metadata": {},
       "output_type": "pyout",
       "prompt_number": 103,
       "text": [
        "[<matplotlib.lines.Line2D at 0x6b309b0>]"
       ]
      },
      {
       "metadata": {},
       "output_type": "display_data",
       "png": "[encoded data removed]",
       "text": [
        "<matplotlib.figure.Figure at 0x6b30690>"
       ]
      }
     ],
     "prompt_number": 103
    },
    {
     "cell_type": "code",
     "collapsed": false,
     "input": [
      "theta"
     ],
     "language": "python",
     "metadata": {},
     "outputs": [
      {
       "metadata": {},
       "output_type": "pyout",
       "prompt_number": 104,
       "text": [
        "array([ -8.79048691e+01,   2.92516296e+03,  -3.23400586e+04,\n",
        "         1.69271898e+05,  -4.83782219e+05,   7.93557656e+05,\n",
        "        -7.29351406e+05,   3.21246469e+05,  -2.11097578e+04,\n",
        "        -2.03437568e+04])"
       ]
      }
     ],
     "prompt_number": 104
    },
    {
     "cell_type": "code",
     "collapsed": false,
     "input": [
      "def regularized(X, y, lambda_=0.1):\n",
      "    L = np.eye(X.shape[1])\n",
      "    L[0,0] = 0\n",
      "    return np.linalg.inv(X.T.dot(X) + lambda_ * L).dot(X.T.dot(y));"
     ],
     "language": "python",
     "metadata": {},
     "outputs": [],
     "prompt_number": 93
    },
    {
     "cell_type": "code",
     "collapsed": false,
     "input": [
      "theta_reg = regularized(Z, y, 0.1)\n",
      "theta_reg"
     ],
     "language": "python",
     "metadata": {},
     "outputs": [
      {
       "metadata": {},
       "output_type": "pyout",
       "prompt_number": 105,
       "text": [
        "array([ 0.73800578,  0.28940732,  0.06658792, -0.03298096, -0.0658641 ,\n",
        "       -0.06989135, -0.0615342 , -0.0481581 , -0.03325328, -0.01854013])"
       ]
      }
     ],
     "prompt_number": 105
    },
    {
     "cell_type": "code",
     "collapsed": false,
     "input": [
      "plt.plot(Z[:, 1], y, \"o\")\n",
      "xmin, xmax = Z[:, 1].min(), Z[:, 1].max()\n",
      "xe = np.arange(xmin, xmax, (xmax-xmin)/100)\n",
      "xe = np.vstack((np.ones(len(xe)), xe)).T\n",
      "xe = poly_expand(xe, poly_degree)\n",
      "plt.plot(xe[:, 1], xe.dot(theta_reg))"
     ],
     "language": "python",
     "metadata": {},
     "outputs": [
      {
       "metadata": {},
       "output_type": "pyout",
       "prompt_number": 106,
       "text": [
        "[<matplotlib.lines.Line2D at 0x6b96090>]"
       ]
      },
      {
       "metadata": {},
       "output_type": "display_data",
       "png": "[encoded data removed]",
       "text": [
        "<matplotlib.figure.Figure at 0x6b8fff0>"
       ]
      }
     ],
     "prompt_number": 106
    },
    {
     "cell_type": "code",
     "collapsed": false,
     "input": [
      "len(X)"
     ],
     "language": "python",
     "metadata": {},
     "outputs": [
      {
       "metadata": {},
       "output_type": "pyout",
       "prompt_number": 107,
       "text": [
        "10"
       ]
      }
     ],
     "prompt_number": 107
    },
    {
     "cell_type": "code",
     "collapsed": false,
     "input": [],
     "language": "python",
     "metadata": {},
     "outputs": []
    }
   ],
   "metadata": {}
  }
 ]
}